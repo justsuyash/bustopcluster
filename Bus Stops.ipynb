{
 "cells": [
  {
   "cell_type": "code",
   "execution_count": 28,
   "id": "b8b4b218",
   "metadata": {},
   "outputs": [
    {
     "name": "stdout",
     "output_type": "stream",
     "text": [
      "                                          address  employee_id\n",
      "0   98 Edinburgh St, San Francisco, CA 94112, USA          206\n",
      "1        237 Accacia St, Daly City, CA 94014, USA         2081\n",
      "2    1835 Folsom St, San Francisco, CA 94103, USA          178\n",
      "3  170 Cambridge St, San Francisco, CA 94134, USA           50\n",
      "4     16 Roanoke St, San Francisco, CA 94131, USA         1863\n"
     ]
    }
   ],
   "source": [
    "import pandas\n",
    "import numpy as np\n",
    "import matplotlib.pyplot as plt\n",
    "import seaborn as sns\n",
    "pandas.set_option('display.max_columns', 10)\n",
    "pandas.set_option('display.width', 350)\n",
    "    \n",
    "#Get list of employee addresses\n",
    "employees=pandas.read_csv(\"Employee_Addresses.csv\")\n",
    "print(employees.head())"
   ]
  },
  {
   "cell_type": "code",
   "execution_count": 29,
   "id": "0a4de580",
   "metadata": {},
   "outputs": [
    {
     "name": "stdout",
     "output_type": "stream",
     "text": [
      "   Street_One         Street_Two\n",
      "0  MISSION ST          ITALY AVE\n",
      "1  MISSION ST  NEW MONTGOMERY ST\n",
      "2  MISSION ST            01ST ST\n",
      "3  MISSION ST            20TH ST\n",
      "4  MISSION ST         FREMONT ST\n"
     ]
    }
   ],
   "source": [
    "stops=pandas.read_csv(\"Bus_Stops.csv\")\n",
    "print(stops.head())"
   ]
  },
  {
   "cell_type": "markdown",
   "id": "83d83653",
   "metadata": {},
   "source": [
    "# Q: Write an algorithm that returns the best 10 stops in your opinion. Also, please explain the rationale behind the algorithm.\n",
    "\n",
    "### As a first step, let’s geolocate all those addresses, which is really just a fancy way to say let’s get lat and long from the addresses. In general, whenever possible, it is always a good idea to go from addresses to lat/long.\n",
    "\n",
    "\n",
    "### Lat and long are continuous variables and most ML models deal very well with them, extracting tons of information. On the other hand, geographical variables stored as categorical variables (like country, state, city, address, etc) are particularly complicated for most models, especially because you typically end up having tons of different levels, each level having few events. And this is a nightmare for most ML models."
   ]
  },
  {
   "cell_type": "code",
   "execution_count": 3,
   "id": "a2cd5a16",
   "metadata": {},
   "outputs": [
    {
     "name": "stdout",
     "output_type": "stream",
     "text": [
      "80, San Francisco, CA 94105, USA\n"
     ]
    }
   ],
   "source": [
    "import geocoder\n",
    "    \n",
    "#We are using Bing API here, easier/faster to get an API key than google. Note that Bing tries very hard to guess a correct address even if the format is not perfect. For instance, this address below does return a specific location by guessing. Other APIs would return NAs. Both approaches (NA or guessing) are fine here and lead to comparable final results. Another approach would be cleaning the data before calling the API. For instance, removing all addresses without a non-numerical character before the first comma would take care of addresses like the one below.\n",
    "print(employees.address[87])\n"
   ]
  },
  {
   "cell_type": "code",
   "execution_count": 8,
   "id": "73c23c4b",
   "metadata": {},
   "outputs": [
    {
     "name": "stdout",
     "output_type": "stream",
     "text": [
      "[37.78475002, -122.39318969]\n"
     ]
    }
   ],
   "source": [
    "print(geocoder.bing(employees.address[87], key='AgnzdXafvb6JNDwfxlgwLwZoaZjruVVWodzFIIi7tFfwd70UeYTGL4PeemvI0F3d').latlng)"
   ]
  },
  {
   "cell_type": "code",
   "execution_count": 9,
   "id": "655fea61",
   "metadata": {},
   "outputs": [],
   "source": [
    "#geolocate employee addresses \n",
    "employee_lon = []\n",
    "employee_lat = []\n",
    "\n",
    "for i in range(len(employees)):\n",
    "    geocode_add = geocoder.bing(employees.address[i], key='AgnzdXafvb6JNDwfxlgwLwZoaZjruVVWodzFIIi7tFfwd70UeYTGL4PeemvI0F3d').latlng\n",
    "    employee_lat.append(geocode_add[0])\n",
    "    employee_lon.append(geocode_add[1])\n",
    "\n",
    "employees_g = pandas.DataFrame({'longitude' : employee_lon,\n",
    "                                'latitude' : employee_lat, \n",
    "                                })"
   ]
  },
  {
   "cell_type": "code",
   "execution_count": 10,
   "id": "23494ea6",
   "metadata": {},
   "outputs": [
    {
     "data": {
      "text/plain": [
       "[37.76312189, -122.41372639]"
      ]
     },
     "execution_count": 10,
     "metadata": {},
     "output_type": "execute_result"
    }
   ],
   "source": [
    "geocode_add"
   ]
  },
  {
   "cell_type": "code",
   "execution_count": 11,
   "id": "336f2236",
   "metadata": {},
   "outputs": [
    {
     "name": "stdout",
     "output_type": "stream",
     "text": [
      "True\n"
     ]
    }
   ],
   "source": [
    "#Are there any NAs? Not really expecting them given how Bing Map works, but still, let's check\n",
    "print(len(employees_g)==len(employees_g.dropna()))"
   ]
  },
  {
   "cell_type": "code",
   "execution_count": 12,
   "id": "bbb0f6b2",
   "metadata": {},
   "outputs": [],
   "source": [
    "#Geolocate bus stops:\n",
    "#Fix address format so that intersections can be recognized\n",
    "stops_corner = stops.Street_One + \" and \" +  stops.Street_Two + \" san francisco, ca\""
   ]
  },
  {
   "cell_type": "code",
   "execution_count": 13,
   "id": "c483c25b",
   "metadata": {},
   "outputs": [],
   "source": [
    "#geolocate stop addresses \n",
    "stops_lon = []\n",
    "stops_lat = []\n",
    "\n",
    "for i in range(len(stops_corner)):\n",
    "    geocode_add = geocoder.bing(stops_corner[i], key='AgnzdXafvb6JNDwfxlgwLwZoaZjruVVWodzFIIi7tFfwd70UeYTGL4PeemvI0F3d').latlng\n",
    "    stops_lat.append(geocode_add[0])\n",
    "    stops_lon.append(geocode_add[1])\n",
    "\n",
    "stops_g = pandas.DataFrame({'longitude': stops_lon, \n",
    "                            'latitude' : stops_lat, \n",
    "                                })"
   ]
  },
  {
   "cell_type": "code",
   "execution_count": 14,
   "id": "ec9fe8c1",
   "metadata": {},
   "outputs": [
    {
     "name": "stdout",
     "output_type": "stream",
     "text": [
      "True\n"
     ]
    }
   ],
   "source": [
    "#Are there any NAs?\n",
    "print(len(stops_g)==len(stops_g.dropna()))"
   ]
  },
  {
   "cell_type": "code",
   "execution_count": 15,
   "id": "fbb1e63d",
   "metadata": {},
   "outputs": [
    {
     "name": "stdout",
     "output_type": "stream",
     "text": [
      "        longitude    latitude\n",
      "count  119.000000  119.000000\n",
      "mean  -122.412669   37.750208\n",
      "std      0.067015    0.042691\n",
      "min   -122.454090   37.605670\n",
      "25%   -122.435430   37.723490\n",
      "50%   -122.421975   37.742209\n",
      "75%   -122.418699   37.774803\n",
      "max   -122.019534   37.940263\n"
     ]
    }
   ],
   "source": [
    "print(stops_g.describe())"
   ]
  },
  {
   "cell_type": "markdown",
   "id": "04a4309f",
   "metadata": {},
   "source": [
    "# Clustering\n",
    "\n",
    "### We have 119 bus stops and we need to choose the best 10. That means having ~1 trillion possible combinations, i.e. choose (119, 10). So let’s try to reduce the complexity of the problem by doing the following:\n",
    "\n",
    "### Create 10 clusters based on where people live\n",
    "\n",
    "### For each cluster, identify its cluster centroid and find the bus stop that’s closest to it"
   ]
  },
  {
   "cell_type": "code",
   "execution_count": 16,
   "id": "e7c87841",
   "metadata": {},
   "outputs": [
    {
     "data": {
      "text/plain": [
       "KMeans(n_clusters=10, random_state=10)"
      ]
     },
     "execution_count": 16,
     "metadata": {},
     "output_type": "execute_result"
    }
   ],
   "source": [
    "#Clustering: since here we have just two dimensions, both numerical, K-means should do well\n",
    "from sklearn.cluster import KMeans\n",
    "import geopy.distance\n",
    "  \n",
    "#Build k-means\n",
    "employees_clusters = KMeans(n_clusters=10, init='k-means++', random_state=10)\n",
    "employees_clusters.fit(employees_g)"
   ]
  },
  {
   "cell_type": "code",
   "execution_count": 17,
   "id": "803d112c",
   "metadata": {},
   "outputs": [
    {
     "name": "stdout",
     "output_type": "stream",
     "text": [
      "cluster\n",
      "0     75\n",
      "1    457\n",
      "2    313\n",
      "3    183\n",
      "4    136\n",
      "5    198\n",
      "6    348\n",
      "7    300\n",
      "8     43\n",
      "9    138\n",
      "dtype: int64\n"
     ]
    }
   ],
   "source": [
    "employees_g['cluster'] = employees_clusters.labels_\n",
    "  \n",
    "#Check number of events per cluster\n",
    "print(employees_g.groupby('cluster').size())"
   ]
  },
  {
   "cell_type": "code",
   "execution_count": 18,
   "id": "a96b09db",
   "metadata": {},
   "outputs": [
    {
     "data": {
      "text/plain": [
       "KMeans(n_clusters=10, random_state=10)"
      ]
     },
     "execution_count": 18,
     "metadata": {},
     "output_type": "execute_result"
    }
   ],
   "source": [
    "#Looks like a few outliers (4 people) were so far that they gor their own cluster. Let's remove those people and rebuild k-means\n",
    "employees_g = employees_g.loc[employees_g.cluster != np.argmin(employees_g.groupby('cluster').size().values)]\n",
    "  \n",
    "#Build k-means\n",
    "employees_clusters.fit(employees_g)"
   ]
  },
  {
   "cell_type": "code",
   "execution_count": 19,
   "id": "e70aa334",
   "metadata": {},
   "outputs": [
    {
     "name": "stdout",
     "output_type": "stream",
     "text": [
      "cluster\n",
      "0    193\n",
      "1    313\n",
      "2    198\n",
      "3    457\n",
      "4    138\n",
      "5    348\n",
      "6    183\n",
      "7    136\n",
      "8     75\n",
      "9    107\n",
      "dtype: int64\n"
     ]
    }
   ],
   "source": [
    "employees_g['cluster'] = employees_clusters.labels_\n",
    "  \n",
    "#Check number of events per cluster\n",
    "print(employees_g.groupby('cluster').size())"
   ]
  },
  {
   "cell_type": "code",
   "execution_count": 32,
   "id": "4029117a",
   "metadata": {},
   "outputs": [
    {
     "ename": "ValueError",
     "evalue": "Latitude must be in the [-90; 90] range.",
     "output_type": "error",
     "traceback": [
      "\u001b[1;31m---------------------------------------------------------------------------\u001b[0m",
      "\u001b[1;31mValueError\u001b[0m                                Traceback (most recent call last)",
      "Input \u001b[1;32mIn [32]\u001b[0m, in \u001b[0;36m<cell line: 8>\u001b[1;34m()\u001b[0m\n\u001b[0;32m      8\u001b[0m \u001b[38;5;28;01mfor\u001b[39;00m i \u001b[38;5;129;01min\u001b[39;00m \u001b[38;5;28mrange\u001b[39m(\u001b[38;5;241m10\u001b[39m):\n\u001b[0;32m      9\u001b[0m     centroid_tmp \u001b[38;5;241m=\u001b[39m (cluster_centroids[\u001b[38;5;124m'\u001b[39m\u001b[38;5;124mlatitude\u001b[39m\u001b[38;5;124m'\u001b[39m][i], cluster_centroids[\u001b[38;5;124m'\u001b[39m\u001b[38;5;124mlongitude\u001b[39m\u001b[38;5;124m'\u001b[39m][i])\n\u001b[1;32m---> 10\u001b[0m     distance_from_centroid \u001b[38;5;241m=\u001b[39m \u001b[43mstops_g\u001b[49m\u001b[38;5;241;43m.\u001b[39;49m\u001b[43mapply\u001b[49m\u001b[43m(\u001b[49m\u001b[38;5;28;43;01mlambda\u001b[39;49;00m\u001b[43m \u001b[49m\u001b[43mx\u001b[49m\u001b[43m:\u001b[49m\u001b[43m \u001b[49m\u001b[43mgeopy\u001b[49m\u001b[38;5;241;43m.\u001b[39;49m\u001b[43mdistance\u001b[49m\u001b[38;5;241;43m.\u001b[39;49m\u001b[43mdistance\u001b[49m\u001b[43m(\u001b[49m\u001b[43mx\u001b[49m\u001b[43m,\u001b[49m\u001b[43m \u001b[49m\u001b[43mcentroid_tmp\u001b[49m\u001b[43m)\u001b[49m\u001b[38;5;241;43m.\u001b[39;49m\u001b[43mkm\u001b[49m\u001b[43m,\u001b[49m\u001b[43maxis\u001b[49m\u001b[38;5;241;43m=\u001b[39;49m\u001b[38;5;241;43m1\u001b[39;49m\u001b[43m)\u001b[49m\n\u001b[0;32m     11\u001b[0m     best_stops\u001b[38;5;241m.\u001b[39mappend(np\u001b[38;5;241m.\u001b[39margmin(distance_from_centroid\u001b[38;5;241m.\u001b[39mvalues))\n\u001b[0;32m     14\u001b[0m \u001b[38;5;66;03m#Best stops are:\u001b[39;00m\n",
      "File \u001b[1;32m~\\anaconda3\\lib\\site-packages\\pandas\\core\\frame.py:8839\u001b[0m, in \u001b[0;36mDataFrame.apply\u001b[1;34m(self, func, axis, raw, result_type, args, **kwargs)\u001b[0m\n\u001b[0;32m   8828\u001b[0m \u001b[38;5;28;01mfrom\u001b[39;00m \u001b[38;5;21;01mpandas\u001b[39;00m\u001b[38;5;21;01m.\u001b[39;00m\u001b[38;5;21;01mcore\u001b[39;00m\u001b[38;5;21;01m.\u001b[39;00m\u001b[38;5;21;01mapply\u001b[39;00m \u001b[38;5;28;01mimport\u001b[39;00m frame_apply\n\u001b[0;32m   8830\u001b[0m op \u001b[38;5;241m=\u001b[39m frame_apply(\n\u001b[0;32m   8831\u001b[0m     \u001b[38;5;28mself\u001b[39m,\n\u001b[0;32m   8832\u001b[0m     func\u001b[38;5;241m=\u001b[39mfunc,\n\u001b[1;32m   (...)\u001b[0m\n\u001b[0;32m   8837\u001b[0m     kwargs\u001b[38;5;241m=\u001b[39mkwargs,\n\u001b[0;32m   8838\u001b[0m )\n\u001b[1;32m-> 8839\u001b[0m \u001b[38;5;28;01mreturn\u001b[39;00m \u001b[43mop\u001b[49m\u001b[38;5;241;43m.\u001b[39;49m\u001b[43mapply\u001b[49m\u001b[43m(\u001b[49m\u001b[43m)\u001b[49m\u001b[38;5;241m.\u001b[39m__finalize__(\u001b[38;5;28mself\u001b[39m, method\u001b[38;5;241m=\u001b[39m\u001b[38;5;124m\"\u001b[39m\u001b[38;5;124mapply\u001b[39m\u001b[38;5;124m\"\u001b[39m)\n",
      "File \u001b[1;32m~\\anaconda3\\lib\\site-packages\\pandas\\core\\apply.py:727\u001b[0m, in \u001b[0;36mFrameApply.apply\u001b[1;34m(self)\u001b[0m\n\u001b[0;32m    724\u001b[0m \u001b[38;5;28;01melif\u001b[39;00m \u001b[38;5;28mself\u001b[39m\u001b[38;5;241m.\u001b[39mraw:\n\u001b[0;32m    725\u001b[0m     \u001b[38;5;28;01mreturn\u001b[39;00m \u001b[38;5;28mself\u001b[39m\u001b[38;5;241m.\u001b[39mapply_raw()\n\u001b[1;32m--> 727\u001b[0m \u001b[38;5;28;01mreturn\u001b[39;00m \u001b[38;5;28;43mself\u001b[39;49m\u001b[38;5;241;43m.\u001b[39;49m\u001b[43mapply_standard\u001b[49m\u001b[43m(\u001b[49m\u001b[43m)\u001b[49m\n",
      "File \u001b[1;32m~\\anaconda3\\lib\\site-packages\\pandas\\core\\apply.py:851\u001b[0m, in \u001b[0;36mFrameApply.apply_standard\u001b[1;34m(self)\u001b[0m\n\u001b[0;32m    850\u001b[0m \u001b[38;5;28;01mdef\u001b[39;00m \u001b[38;5;21mapply_standard\u001b[39m(\u001b[38;5;28mself\u001b[39m):\n\u001b[1;32m--> 851\u001b[0m     results, res_index \u001b[38;5;241m=\u001b[39m \u001b[38;5;28;43mself\u001b[39;49m\u001b[38;5;241;43m.\u001b[39;49m\u001b[43mapply_series_generator\u001b[49m\u001b[43m(\u001b[49m\u001b[43m)\u001b[49m\n\u001b[0;32m    853\u001b[0m     \u001b[38;5;66;03m# wrap results\u001b[39;00m\n\u001b[0;32m    854\u001b[0m     \u001b[38;5;28;01mreturn\u001b[39;00m \u001b[38;5;28mself\u001b[39m\u001b[38;5;241m.\u001b[39mwrap_results(results, res_index)\n",
      "File \u001b[1;32m~\\anaconda3\\lib\\site-packages\\pandas\\core\\apply.py:867\u001b[0m, in \u001b[0;36mFrameApply.apply_series_generator\u001b[1;34m(self)\u001b[0m\n\u001b[0;32m    864\u001b[0m \u001b[38;5;28;01mwith\u001b[39;00m option_context(\u001b[38;5;124m\"\u001b[39m\u001b[38;5;124mmode.chained_assignment\u001b[39m\u001b[38;5;124m\"\u001b[39m, \u001b[38;5;28;01mNone\u001b[39;00m):\n\u001b[0;32m    865\u001b[0m     \u001b[38;5;28;01mfor\u001b[39;00m i, v \u001b[38;5;129;01min\u001b[39;00m \u001b[38;5;28menumerate\u001b[39m(series_gen):\n\u001b[0;32m    866\u001b[0m         \u001b[38;5;66;03m# ignore SettingWithCopy here in case the user mutates\u001b[39;00m\n\u001b[1;32m--> 867\u001b[0m         results[i] \u001b[38;5;241m=\u001b[39m \u001b[38;5;28;43mself\u001b[39;49m\u001b[38;5;241;43m.\u001b[39;49m\u001b[43mf\u001b[49m\u001b[43m(\u001b[49m\u001b[43mv\u001b[49m\u001b[43m)\u001b[49m\n\u001b[0;32m    868\u001b[0m         \u001b[38;5;28;01mif\u001b[39;00m \u001b[38;5;28misinstance\u001b[39m(results[i], ABCSeries):\n\u001b[0;32m    869\u001b[0m             \u001b[38;5;66;03m# If we have a view on v, we need to make a copy because\u001b[39;00m\n\u001b[0;32m    870\u001b[0m             \u001b[38;5;66;03m#  series_generator will swap out the underlying data\u001b[39;00m\n\u001b[0;32m    871\u001b[0m             results[i] \u001b[38;5;241m=\u001b[39m results[i]\u001b[38;5;241m.\u001b[39mcopy(deep\u001b[38;5;241m=\u001b[39m\u001b[38;5;28;01mFalse\u001b[39;00m)\n",
      "Input \u001b[1;32mIn [32]\u001b[0m, in \u001b[0;36m<lambda>\u001b[1;34m(x)\u001b[0m\n\u001b[0;32m      8\u001b[0m \u001b[38;5;28;01mfor\u001b[39;00m i \u001b[38;5;129;01min\u001b[39;00m \u001b[38;5;28mrange\u001b[39m(\u001b[38;5;241m10\u001b[39m):\n\u001b[0;32m      9\u001b[0m     centroid_tmp \u001b[38;5;241m=\u001b[39m (cluster_centroids[\u001b[38;5;124m'\u001b[39m\u001b[38;5;124mlatitude\u001b[39m\u001b[38;5;124m'\u001b[39m][i], cluster_centroids[\u001b[38;5;124m'\u001b[39m\u001b[38;5;124mlongitude\u001b[39m\u001b[38;5;124m'\u001b[39m][i])\n\u001b[1;32m---> 10\u001b[0m     distance_from_centroid \u001b[38;5;241m=\u001b[39m stops_g\u001b[38;5;241m.\u001b[39mapply(\u001b[38;5;28;01mlambda\u001b[39;00m x: \u001b[43mgeopy\u001b[49m\u001b[38;5;241;43m.\u001b[39;49m\u001b[43mdistance\u001b[49m\u001b[38;5;241;43m.\u001b[39;49m\u001b[43mdistance\u001b[49m\u001b[43m(\u001b[49m\u001b[43mx\u001b[49m\u001b[43m,\u001b[49m\u001b[43m \u001b[49m\u001b[43mcentroid_tmp\u001b[49m\u001b[43m)\u001b[49m\u001b[38;5;241m.\u001b[39mkm,axis\u001b[38;5;241m=\u001b[39m\u001b[38;5;241m1\u001b[39m)\n\u001b[0;32m     11\u001b[0m     best_stops\u001b[38;5;241m.\u001b[39mappend(np\u001b[38;5;241m.\u001b[39margmin(distance_from_centroid\u001b[38;5;241m.\u001b[39mvalues))\n\u001b[0;32m     14\u001b[0m \u001b[38;5;66;03m#Best stops are:\u001b[39;00m\n",
      "File \u001b[1;32m~\\anaconda3\\lib\\site-packages\\geopy\\distance.py:522\u001b[0m, in \u001b[0;36mgeodesic.__init__\u001b[1;34m(self, *args, **kwargs)\u001b[0m\n\u001b[0;32m    520\u001b[0m \u001b[38;5;28mself\u001b[39m\u001b[38;5;241m.\u001b[39mset_ellipsoid(kwargs\u001b[38;5;241m.\u001b[39mpop(\u001b[38;5;124m'\u001b[39m\u001b[38;5;124mellipsoid\u001b[39m\u001b[38;5;124m'\u001b[39m, \u001b[38;5;124m'\u001b[39m\u001b[38;5;124mWGS-84\u001b[39m\u001b[38;5;124m'\u001b[39m))\n\u001b[0;32m    521\u001b[0m major, minor, f \u001b[38;5;241m=\u001b[39m \u001b[38;5;28mself\u001b[39m\u001b[38;5;241m.\u001b[39mELLIPSOID\n\u001b[1;32m--> 522\u001b[0m \u001b[38;5;28;43msuper\u001b[39;49m\u001b[43m(\u001b[49m\u001b[43m)\u001b[49m\u001b[38;5;241;43m.\u001b[39;49m\u001b[38;5;21;43m__init__\u001b[39;49m\u001b[43m(\u001b[49m\u001b[38;5;241;43m*\u001b[39;49m\u001b[43margs\u001b[49m\u001b[43m,\u001b[49m\u001b[43m \u001b[49m\u001b[38;5;241;43m*\u001b[39;49m\u001b[38;5;241;43m*\u001b[39;49m\u001b[43mkwargs\u001b[49m\u001b[43m)\u001b[49m\n",
      "File \u001b[1;32m~\\anaconda3\\lib\\site-packages\\geopy\\distance.py:276\u001b[0m, in \u001b[0;36mDistance.__init__\u001b[1;34m(self, *args, **kwargs)\u001b[0m\n\u001b[0;32m    274\u001b[0m \u001b[38;5;28;01melif\u001b[39;00m \u001b[38;5;28mlen\u001b[39m(args) \u001b[38;5;241m>\u001b[39m \u001b[38;5;241m1\u001b[39m:\n\u001b[0;32m    275\u001b[0m     \u001b[38;5;28;01mfor\u001b[39;00m a, b \u001b[38;5;129;01min\u001b[39;00m util\u001b[38;5;241m.\u001b[39mpairwise(args):\n\u001b[1;32m--> 276\u001b[0m         kilometers \u001b[38;5;241m+\u001b[39m\u001b[38;5;241m=\u001b[39m \u001b[38;5;28;43mself\u001b[39;49m\u001b[38;5;241;43m.\u001b[39;49m\u001b[43mmeasure\u001b[49m\u001b[43m(\u001b[49m\u001b[43ma\u001b[49m\u001b[43m,\u001b[49m\u001b[43m \u001b[49m\u001b[43mb\u001b[49m\u001b[43m)\u001b[49m\n\u001b[0;32m    278\u001b[0m kilometers \u001b[38;5;241m+\u001b[39m\u001b[38;5;241m=\u001b[39m units\u001b[38;5;241m.\u001b[39mkilometers(\u001b[38;5;241m*\u001b[39m\u001b[38;5;241m*\u001b[39mkwargs)\n\u001b[0;32m    279\u001b[0m \u001b[38;5;28mself\u001b[39m\u001b[38;5;241m.\u001b[39m__kilometers \u001b[38;5;241m=\u001b[39m kilometers\n",
      "File \u001b[1;32m~\\anaconda3\\lib\\site-packages\\geopy\\distance.py:538\u001b[0m, in \u001b[0;36mgeodesic.measure\u001b[1;34m(self, a, b)\u001b[0m\n\u001b[0;32m    537\u001b[0m \u001b[38;5;28;01mdef\u001b[39;00m \u001b[38;5;21mmeasure\u001b[39m(\u001b[38;5;28mself\u001b[39m, a, b):\n\u001b[1;32m--> 538\u001b[0m     a, b \u001b[38;5;241m=\u001b[39m \u001b[43mPoint\u001b[49m\u001b[43m(\u001b[49m\u001b[43ma\u001b[49m\u001b[43m)\u001b[49m, Point(b)\n\u001b[0;32m    539\u001b[0m     _ensure_same_altitude(a, b)\n\u001b[0;32m    540\u001b[0m     lat1, lon1 \u001b[38;5;241m=\u001b[39m a\u001b[38;5;241m.\u001b[39mlatitude, a\u001b[38;5;241m.\u001b[39mlongitude\n",
      "File \u001b[1;32m~\\anaconda3\\lib\\site-packages\\geopy\\point.py:175\u001b[0m, in \u001b[0;36mPoint.__new__\u001b[1;34m(cls, latitude, longitude, altitude)\u001b[0m\n\u001b[0;32m    171\u001b[0m             \u001b[38;5;28;01mraise\u001b[39;00m \u001b[38;5;167;01mTypeError\u001b[39;00m(\n\u001b[0;32m    172\u001b[0m                 \u001b[38;5;124m\"\u001b[39m\u001b[38;5;124mFailed to create Point instance from \u001b[39m\u001b[38;5;132;01m%r\u001b[39;00m\u001b[38;5;124m.\u001b[39m\u001b[38;5;124m\"\u001b[39m \u001b[38;5;241m%\u001b[39m (arg,)\n\u001b[0;32m    173\u001b[0m             )\n\u001b[0;32m    174\u001b[0m         \u001b[38;5;28;01melse\u001b[39;00m:\n\u001b[1;32m--> 175\u001b[0m             \u001b[38;5;28;01mreturn\u001b[39;00m \u001b[38;5;28;43mcls\u001b[39;49m\u001b[38;5;241;43m.\u001b[39;49m\u001b[43mfrom_sequence\u001b[49m\u001b[43m(\u001b[49m\u001b[43mseq\u001b[49m\u001b[43m)\u001b[49m\n\u001b[0;32m    177\u001b[0m \u001b[38;5;28;01mif\u001b[39;00m single_arg:\n\u001b[0;32m    178\u001b[0m     \u001b[38;5;28;01mraise\u001b[39;00m \u001b[38;5;167;01mValueError\u001b[39;00m(\n\u001b[0;32m    179\u001b[0m         \u001b[38;5;124m'\u001b[39m\u001b[38;5;124mA single number has been passed to the Point \u001b[39m\u001b[38;5;124m'\u001b[39m\n\u001b[0;32m    180\u001b[0m         \u001b[38;5;124m'\u001b[39m\u001b[38;5;124mconstructor. This is probably a mistake, because \u001b[39m\u001b[38;5;124m'\u001b[39m\n\u001b[1;32m   (...)\u001b[0m\n\u001b[0;32m    184\u001b[0m         \u001b[38;5;124m'\u001b[39m\u001b[38;5;124mto get rid of this error.\u001b[39m\u001b[38;5;124m'\u001b[39m\n\u001b[0;32m    185\u001b[0m     )\n",
      "File \u001b[1;32m~\\anaconda3\\lib\\site-packages\\geopy\\point.py:472\u001b[0m, in \u001b[0;36mPoint.from_sequence\u001b[1;34m(cls, seq)\u001b[0m\n\u001b[0;32m    469\u001b[0m \u001b[38;5;28;01mif\u001b[39;00m \u001b[38;5;28mlen\u001b[39m(args) \u001b[38;5;241m>\u001b[39m \u001b[38;5;241m3\u001b[39m:\n\u001b[0;32m    470\u001b[0m     \u001b[38;5;28;01mraise\u001b[39;00m \u001b[38;5;167;01mValueError\u001b[39;00m(\u001b[38;5;124m'\u001b[39m\u001b[38;5;124mWhen creating a Point from sequence, it \u001b[39m\u001b[38;5;124m'\u001b[39m\n\u001b[0;32m    471\u001b[0m                      \u001b[38;5;124m'\u001b[39m\u001b[38;5;124mmust not have more than 3 items.\u001b[39m\u001b[38;5;124m'\u001b[39m)\n\u001b[1;32m--> 472\u001b[0m \u001b[38;5;28;01mreturn\u001b[39;00m \u001b[38;5;28;43mcls\u001b[39;49m\u001b[43m(\u001b[49m\u001b[38;5;241;43m*\u001b[39;49m\u001b[43margs\u001b[49m\u001b[43m)\u001b[49m\n",
      "File \u001b[1;32m~\\anaconda3\\lib\\site-packages\\geopy\\point.py:188\u001b[0m, in \u001b[0;36mPoint.__new__\u001b[1;34m(cls, latitude, longitude, altitude)\u001b[0m\n\u001b[0;32m    177\u001b[0m \u001b[38;5;28;01mif\u001b[39;00m single_arg:\n\u001b[0;32m    178\u001b[0m     \u001b[38;5;28;01mraise\u001b[39;00m \u001b[38;5;167;01mValueError\u001b[39;00m(\n\u001b[0;32m    179\u001b[0m         \u001b[38;5;124m'\u001b[39m\u001b[38;5;124mA single number has been passed to the Point \u001b[39m\u001b[38;5;124m'\u001b[39m\n\u001b[0;32m    180\u001b[0m         \u001b[38;5;124m'\u001b[39m\u001b[38;5;124mconstructor. This is probably a mistake, because \u001b[39m\u001b[38;5;124m'\u001b[39m\n\u001b[1;32m   (...)\u001b[0m\n\u001b[0;32m    184\u001b[0m         \u001b[38;5;124m'\u001b[39m\u001b[38;5;124mto get rid of this error.\u001b[39m\u001b[38;5;124m'\u001b[39m\n\u001b[0;32m    185\u001b[0m     )\n\u001b[0;32m    187\u001b[0m latitude, longitude, altitude \u001b[38;5;241m=\u001b[39m \\\n\u001b[1;32m--> 188\u001b[0m     \u001b[43m_normalize_coordinates\u001b[49m\u001b[43m(\u001b[49m\u001b[43mlatitude\u001b[49m\u001b[43m,\u001b[49m\u001b[43m \u001b[49m\u001b[43mlongitude\u001b[49m\u001b[43m,\u001b[49m\u001b[43m \u001b[49m\u001b[43maltitude\u001b[49m\u001b[43m)\u001b[49m\n\u001b[0;32m    190\u001b[0m \u001b[38;5;28mself\u001b[39m \u001b[38;5;241m=\u001b[39m \u001b[38;5;28msuper\u001b[39m()\u001b[38;5;241m.\u001b[39m\u001b[38;5;21m__new__\u001b[39m(\u001b[38;5;28mcls\u001b[39m)\n\u001b[0;32m    191\u001b[0m \u001b[38;5;28mself\u001b[39m\u001b[38;5;241m.\u001b[39mlatitude \u001b[38;5;241m=\u001b[39m latitude\n",
      "File \u001b[1;32m~\\anaconda3\\lib\\site-packages\\geopy\\point.py:74\u001b[0m, in \u001b[0;36m_normalize_coordinates\u001b[1;34m(latitude, longitude, altitude)\u001b[0m\n\u001b[0;32m     66\u001b[0m \u001b[38;5;28;01mif\u001b[39;00m \u001b[38;5;28mabs\u001b[39m(latitude) \u001b[38;5;241m>\u001b[39m \u001b[38;5;241m90\u001b[39m:\n\u001b[0;32m     67\u001b[0m     warnings\u001b[38;5;241m.\u001b[39mwarn(\u001b[38;5;124m'\u001b[39m\u001b[38;5;124mLatitude normalization has been prohibited in the newer \u001b[39m\u001b[38;5;124m'\u001b[39m\n\u001b[0;32m     68\u001b[0m                   \u001b[38;5;124m'\u001b[39m\u001b[38;5;124mversions of geopy, because the normalized value happened \u001b[39m\u001b[38;5;124m'\u001b[39m\n\u001b[0;32m     69\u001b[0m                   \u001b[38;5;124m'\u001b[39m\u001b[38;5;124mto be on a different pole, which is probably not what was \u001b[39m\u001b[38;5;124m'\u001b[39m\n\u001b[1;32m   (...)\u001b[0m\n\u001b[0;32m     72\u001b[0m                   \u001b[38;5;124m'\u001b[39m\u001b[38;5;124m(latitude, longitude) or (y, x) in Cartesian terms.\u001b[39m\u001b[38;5;124m'\u001b[39m,\n\u001b[0;32m     73\u001b[0m                   \u001b[38;5;167;01mUserWarning\u001b[39;00m, stacklevel\u001b[38;5;241m=\u001b[39m\u001b[38;5;241m3\u001b[39m)\n\u001b[1;32m---> 74\u001b[0m     \u001b[38;5;28;01mraise\u001b[39;00m \u001b[38;5;167;01mValueError\u001b[39;00m(\u001b[38;5;124m'\u001b[39m\u001b[38;5;124mLatitude must be in the [-90; 90] range.\u001b[39m\u001b[38;5;124m'\u001b[39m)\n\u001b[0;32m     76\u001b[0m \u001b[38;5;28;01mif\u001b[39;00m \u001b[38;5;28mabs\u001b[39m(longitude) \u001b[38;5;241m>\u001b[39m \u001b[38;5;241m180\u001b[39m:\n\u001b[0;32m     77\u001b[0m     \u001b[38;5;66;03m# Longitude normalization is pretty straightforward and doesn't seem\u001b[39;00m\n\u001b[0;32m     78\u001b[0m     \u001b[38;5;66;03m# to be error-prone, so there's nothing to complain about.\u001b[39;00m\n\u001b[0;32m     79\u001b[0m     longitude \u001b[38;5;241m=\u001b[39m _normalize_angle(longitude, \u001b[38;5;241m180.0\u001b[39m)\n",
      "\u001b[1;31mValueError\u001b[0m: Latitude must be in the [-90; 90] range."
     ]
    }
   ],
   "source": [
    "#Store 10 Cluster centroids\n",
    "cluster_centroids = pandas.DataFrame({'longitude': [x[1] for x in employees_clusters.cluster_centers_], \n",
    "                                      'latitude' : [x[0] for x in employees_clusters.cluster_centers_]\n",
    "                                     })\n",
    "  \n",
    "#Find, for each centroid, the closest bus stop. We use geographical distance here for simplicity and to not have to call APIs. We could very well use actual walking distance by calling a map API, similarly to how we found out lat/lon from the address\n",
    "best_stops = []\n",
    "for i in range(10):\n",
    "    centroid_tmp = (cluster_centroids['latitude'][i], cluster_centroids['longitude'][i])\n",
    "    distance_from_centroid = stops_g.apply(lambda x: geopy.distance.distance(x, centroid_tmp).km,axis=1)\n",
    "    best_stops.append(np.argmin(distance_from_centroid.values))\n",
    "\n",
    "    \n",
    "#Best stops are:\n",
    "print(stops.loc[best_stops])"
   ]
  },
  {
   "cell_type": "code",
   "execution_count": 33,
   "id": "b7776628",
   "metadata": {},
   "outputs": [
    {
     "data": {
      "image/png": "[encoded data removed]",
      "text/plain": [
       "<Figure size 432x288 with 1 Axes>"
      ]
     },
     "metadata": {
      "needs_background": "light"
     },
     "output_type": "display_data"
    }
   ],
   "source": [
    "#Let's plot final best stops and employee addresses/clusters\n",
    "#prepare dataset for plot by combining best stops and clusters\n",
    "stops_g['legend'] = \"Best_stop\"\n",
    "stops_g['point_size'] = 360\n",
    "  \n",
    "#rename cluster in employees_g, both the column and the actual name inside\n",
    "employees_g['legend'] = employees_g.cluster.astype(str) + \"_cluster\"\n",
    "employees_g['point_size'] = 40\n",
    "del employees_g['cluster']\n",
    "  \n",
    "#put everything together for the plot\n",
    "data_plot = pandas.concat([employees_g, stops_g.loc[best_stops]]).reset_index()\n",
    "  \n",
    "cluster_plot = sns.scatterplot(data=data_plot, x='longitude', y='latitude', hue='legend', s= data_plot.point_size.values)\n",
    "plt.show()"
   ]
  },
  {
   "cell_type": "markdown",
   "id": "67132077",
   "metadata": {},
   "source": [
    "\n",
    "### They mostly make sense, both the clusters (smaller points) and the final bus stops (those 10 larger points).\n",
    "\n"
   ]
  },
  {
   "cell_type": "markdown",
   "id": "9a20e4b4",
   "metadata": {},
   "source": [
    "### Next Steps\n",
    "\n",
    "\n",
    "\n",
    "### There are at least a couple of ways the outcome could be improved from a product standpoint:\n",
    "\n",
    "\n",
    "### When we optimize the bus stops, we are considering all the employees. However this might not make sense. If someone is really far from their closest bus stop, they might not take the shuttle anyway. And, even if they are going to take it, it won’t make much of a difference a 25 vs a 30 minute distance. There is probably not much point in optimizing for these people. Therefore, they could be removed before doing the clustering or we could reduce their weight right before clustering.\n",
    "\n",
    "\n",
    "### If two optimal bus stops end up being very close, this would be inefficient from a practical standpoint. Assume 2 bus stops are within 2 minutes from each other. It would definitely be more efficient merging those two into one stop and either just having 9 stops or adding a new one. From an algorithm standpoint, this would translate into adding a constraint when the cluster centroids are created such that their distance cannot be <X.\n",
    "\n",
    "\n",
    "### A takehome challenge is rarely the place to come up with a perfect solution. After all, they are usually supposed to be solved in a few hrs max. However, adding comments about what you would do with more time is very important.\n",
    "\n",
    "\n",
    "### Also, note how open ended it is. Take advantage of this by playing to your strengths. If you are great in data visualization, create informative plots. If you are a very detailed oriented person, focus on cleaning the addresses. Strong ML -> optimize the clusters. Strong product sense -> give ideas on how to improve this from a product standpoint. Engineering skills can be highlighted by using an API to get actual time that takes from each address to those stops, and so on."
   ]
  },
  {
   "cell_type": "code",
   "execution_count": null,
   "id": "91d1b627",
   "metadata": {},
   "outputs": [],
   "source": []
  }
 ],
 "metadata": {
  "kernelspec": {
   "display_name": "Python 3 (ipykernel)",
   "language": "python",
   "name": "python3"
  },
  "language_info": {
   "codemirror_mode": {
    "name": "ipython",
    "version": 3
   },
   "file_extension": ".py",
   "mimetype": "text/x-python",
   "name": "python",
   "nbconvert_exporter": "python",
   "pygments_lexer": "ipython3",
   "version": "3.8.8"
  }
 },
 "nbformat": 4,
 "nbformat_minor": 5
}
